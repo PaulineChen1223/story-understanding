{
 "cells": [
  {
   "cell_type": "markdown",
   "metadata": {},
   "source": [
    "<!---\n",
    "Latex Macros\n",
    "-->\n",
    "$$\n",
    "\\newcommand{\\bar}{\\,|\\,}\n",
    "\\newcommand{\\Xs}{\\mathcal{X}}\n",
    "\\newcommand{\\Ys}{\\mathcal{Y}}\n",
    "\\newcommand{\\y}{\\mathbf{y}}\n",
    "\\newcommand{\\weights}{\\mathbf{w}}\n",
    "\\newcommand{\\balpha}{\\boldsymbol{\\alpha}}\n",
    "\\newcommand{\\bbeta}{\\boldsymbol{\\beta}}\n",
    "\\newcommand{\\aligns}{\\mathbf{a}}\n",
    "\\newcommand{\\align}{a}\n",
    "\\newcommand{\\source}{\\mathbf{s}}\n",
    "\\newcommand{\\target}{\\mathbf{t}}\n",
    "\\newcommand{\\ssource}{s}\n",
    "\\newcommand{\\starget}{t}\n",
    "\\newcommand{\\repr}{\\mathbf{f}}\n",
    "\\newcommand{\\repry}{\\mathbf{g}}\n",
    "\\newcommand{\\x}{\\mathbf{x}}\n",
    "\\newcommand{\\prob}{p}\n",
    "\\newcommand{\\vocab}{V}\n",
    "\\newcommand{\\params}{\\boldsymbol{\\theta}}\n",
    "\\newcommand{\\param}{\\theta}\n",
    "\\DeclareMathOperator{\\perplexity}{PP}\n",
    "\\DeclareMathOperator{\\argmax}{argmax}\n",
    "\\DeclareMathOperator{\\argmin}{argmin}\n",
    "\\newcommand{\\train}{\\mathcal{D}}\n",
    "\\newcommand{\\counts}[2]{\\#_{#1}(#2) }\n",
    "\\newcommand{\\length}[1]{\\text{length}(#1) }\n",
    "\\newcommand{\\indi}{\\mathbb{I}}\n",
    "$$"
   ]
  },
  {
   "cell_type": "markdown",
   "metadata": {},
   "source": [
    "# Assignment 3"
   ]
  },
  {
   "cell_type": "markdown",
   "metadata": {},
   "source": [
    "## Introduction\n",
    "\n",
    "In the last assignment, you will apply deep learning methods to solve a particular story understanding problem. Automatic understanding of stories is an important task in natural language understanding [[1]](http://anthology.aclweb.org/D/D13/D13-1020.pdf). Specifically, you will develop a model that given a sequence of sentences learns to sort these sentence in order to yield a coherent story [[2]](https://www.microsoft.com/en-us/research/wp-content/uploads/2016/06/short-commonsense-stories.pdf). This sounds (and to an extent is) trivial for humans, however it is quite a difficult task for machines as it involves commonsense knowledge and temporal understanding."
   ]
  },
  {
   "cell_type": "markdown",
   "metadata": {},
   "source": [
    "## Goal\n",
    "\n",
    "You are given a dataset of 45502 instances, each consisting of 5 sentences. Your system needs to ouput a sequence of numbers which represent the predicted order of these sentences. For example, given a story:\n",
    "\n",
    "    He went to the store.\n",
    "    He found a lamp he liked.\n",
    "    He bought the lamp.\n",
    "    Jan decided to get a new lamp.\n",
    "    Jan's lamp broke.\n",
    "\n",
    "your system needs to provide an answer in the following form:\n",
    "\n",
    "    2\t3\t4\t1\t0\n",
    "\n",
    "where the numbers correspond to the zero-based index of each sentence in the correctly ordered story. So \"`2`\" for \"`He went to the store.`\" means that this sentence should come 3rd in the correctly ordered target story. In this particular example, this order of indices corresponds to the following target story:\n",
    "\n",
    "    Jan's lamp broke.\n",
    "    Jan decided to get a new lamp.\n",
    "    He went to the store.\n",
    "    He found a lamp he liked.\n",
    "    He bought the lamp."
   ]
  },
  {
   "cell_type": "markdown",
   "metadata": {},
   "source": [
    "## Resources\n",
    "\n",
    "To develop your model(s), we provide a training and a development datasets. The test dataset will be held out, and we will use it to evaluate your models. The test set is coming from the same task distribution, and you don't need to expect drastic changes in it.\n",
    "\n",
    "You will use [TensorFlow](https://www.tensorflow.org/) to build a deep learning model for the task. We provide a very crude system which solves the task with a low accuracy, and a set of additional functions you will have to use to save and load the model you create so that we can run it.\n",
    "\n",
    "As we have to run the notebooks of each submission, and as deep learning models take long time to train, your notebook **NEEDS** to conform to the following requirements:\n",
    "* You **NEED** to run your parameter optimisation offline, and provide your final model saved by using the provided function\n",
    "* The maximum size of a zip file you can upload to moodle is 160MB. We will **NOT** allow submissions larger than that.\n",
    "* We do not have time to train your models from scratch! You **NEED** to provide the full code you used for the training of your model, but by all means you **CANNOT** call the training method in the notebook you will send to us.\n",
    "* We will run these notebooks automatically. If your notebook runs the training procedure, in addition to loading the model, and we need to edit your code to stop the training, you will be penalised with **-20 points**.\n",
    "* If you do not provide a pretrained model, and rely on training your model on our machines, you will get **0 points**.\n",
    "* Your submissions will be tested on the stat-nlp-book Docker image to ensure that it does not have any dependencies outside of those that we provide. If your submission fails to adhere to this requirement, you will get **0 points**.\n",
    "\n",
    "Running time and memory issues:\n",
    "* We have tested a possible solution on a mid-2014 MacBook Pro, and a few epochs of the model run in less than 3min. Thus it is possible to train a model on the data in reasonable time. However, be aware that you will need to run these models many times over, for a larger number of epochs (more elaborate models, trained on much larger datasets can train for weeks! However, this shouldn't be the case here.). If you find training times too long for your development cycle you can reduce the training set size. Once you have found a good solution you can increase the size again. Caveat: model parameters tuned on a smaller dataset may not be optimal for a larger training set.\n",
    "* In addition to this, as your submission is capped by size, feel free to experiment with different model sizes, numeric values of different precisions, filtering the vocabulary size, downscaling some vectors, etc."
   ]
  },
  {
   "cell_type": "markdown",
   "metadata": {},
   "source": [
    "## Hints\n",
    "\n",
    "A non-exhaustive list of things you might want to give a try:\n",
    "- better tokenization\n",
    "- experiment with pre-trained word representations such as [word2vec](https://code.google.com/archive/p/word2vec/), or [GloVe](http://nlp.stanford.edu/projects/glove/). Be aware that these representations might take a lot of parameters in your model. Be sure you use only the words you expect in the training/dev set and account for OOV words. When saving the model parameters, pre-rained word embeddings can simply be used in the word embedding matrix of your model. As said, make sure that this word embedding matrix does not contain all of word2vec or GloVe. Your submission is limited, and we will not allow uploading nor using the whole representations set (up to 3GB!)\n",
    "- reduced sizes of word representations\n",
    "- bucketing and batching (our implementation is deliberately not a good one!)\n",
    "  - make sure to draw random batches from the data! (we do not provide this in our code!)\n",
    "- better models:\n",
    "  - stacked RNNs (see tf.contrib.rnn.MultiRNNCell)\n",
    "  - bi-directional RNNs\n",
    "  - attention\n",
    "  - word-by-word attention\n",
    "  - conditional encoding\n",
    "  - get model inspirations from papers on [nlp.stanford.edu/projects/snli/](nlp.stanford.edu/projects/snli/)\n",
    "  - sequence-to-sequence encoder-decode architecture for producing the right ordering\n",
    "- better training procedure:\n",
    "  - different training algorithms\n",
    "  - dropout on the input and output embeddings (see tf.nn.dropout)\n",
    "  - L2 regularization (see tf.nn.l2_loss)\n",
    "  - gradient clipping (see tf.clip_by_value or tf.clip_by_norm)\n",
    "- model selection:\n",
    "  - early stopping\n",
    "- hyper-parameter optimization (e.g. random search or grid search (expensive!))\n",
    "    - initial learning rate\n",
    "    - dropout probability\n",
    "    - input and output size\n",
    "    - L2 regularization\n",
    "    - gradient clipping value\n",
    "    - batch size\n",
    "    - ...\n",
    "- post-processing\n",
    "  - for incorporating consistency constraints"
   ]
  },
  {
   "cell_type": "markdown",
   "metadata": {},
   "source": [
    "## Setup Instructions\n",
    "It is important that this file is placed in the **correct directory**. It will not run otherwise. The correct directory is\n",
    "\n",
    "    DIRECTORY_OF_YOUR_BOOK/assignments/2017/assignment3/problem/group_X/\n",
    "    \n",
    "where `DIRECTORY_OF_YOUR_BOOK` is a placeholder for the directory you downloaded the book to, and in `X` in `group_X` contains the number of your group.\n",
    "\n",
    "After you placed it there, **rename the notebook file** to `group_X.ipynb`.\n",
    "\n",
    "The notebook is pre-set to save models in\n",
    "\n",
    "    DIRECTORY_OF_YOUR_BOOK/assignments/2017/assignment3/problem/group_X/model/\n",
    "\n",
    "Be sure not to tinker with that directory - we expect your submission to contain a `model` subdirectory with a single saved model! \n",
    "The saving procedure might overwrite the latest save, or not. Make sure you understand what it does, and upload only a single model! (for more details check tf.train.Saver)"
   ]
  },
  {
   "cell_type": "markdown",
   "metadata": {},
   "source": [
    "## General Instructions\n",
    "This notebook will be used by you to provide your solution, and by us to both assess your solution and enter your marks. It contains three types of sections:\n",
    "\n",
    "1. **Setup** Sections: these sections set up code and resources for assessment. **Do not edit, move nor copy these cells**.\n",
    "2. **Assessment** Sections: these sections are used for both evaluating the output of your code, and for markers to enter their marks. **Do not edit, move, nor copy these cells**.\n",
    "3. **Task** Sections: these sections require your solutions. They may contain stub code, and you are expected to edit this code. For free text answers simply edit the markdown field.  \n",
    "\n",
    "**If you edit, move or copy any of the setup, assessments and mark cells, you will be penalised with -20 points**.\n",
    "\n",
    "Note that you are free to **create additional notebook cells** within a task section. \n",
    "\n",
    "Please **do not share** this assignment nor the dataset publicly, by uploading it online, emailing it to friends etc."
   ]
  },
  {
   "cell_type": "markdown",
   "metadata": {},
   "source": [
    "## Submission Instructions\n",
    "\n",
    "To submit your solution:\n",
    "\n",
    "* Make sure that your solution is fully contained in this notebook. Make sure you do not use any additional files other than your saved model.\n",
    "* Make sure that your solution runs linearly from start to end (no execution hops). We will run your notebook in that order.\n",
    "* **Before you submit, make sure your submission is tested on the stat-nlp-book Docker setup to ensure that it does not have any dependencies outside of those that we provide. If your submission fails to adhere to this requirement, you will get 0 points**.\n",
    "* **If running your notebook produces a trivially fixable error that we spot, we will correct it and penalise you with -20 points. Otherwise you will get 0 points for that solution.**\n",
    "* **Rename this notebook to your `group_X`** (where `X` is the number of your group), and adhere to the directory structure requirements, if you have not already done so. ** Failure to do so will result in -1 point.**\n",
    "* Download the notebook in Jupyter via *File -> Download as -> Notebook (.ipynb)*.\n",
    "* Your submission should be a zip file containing the `group_X` directory, containing `group_X.ipynb` notebook, and the `model` directory with the saved model\n",
    "* Upload that file to the Moodle submission site."
   ]
  },
  {
   "cell_type": "markdown",
   "metadata": {},
   "source": [
    "## <font color='green'>Setup 1</font>: Load Libraries\n",
    "This cell loads libraries important for evaluation and assessment of your model. **Do not change, move or copy it.**"
   ]
  },
  {
   "cell_type": "code",
   "execution_count": 1,
   "metadata": {
    "ExecuteTime": {
     "end_time": "2016-12-20T12:04:56.249298",
     "start_time": "2016-12-20T12:04:54.376398"
    },
    "collapsed": true,
    "run_control": {
     "frozen": false,
     "read_only": false
    }
   },
   "outputs": [],
   "source": [
    "%%capture\n",
    "%load_ext autoreload\n",
    "%autoreload 2\n",
    "%matplotlib inline\n",
    "#! SETUP 1 - DO NOT CHANGE, MOVE NOR COPY\n",
    "import sys, os\n",
    "_snlp_book_dir = \"../../../../../\"\n",
    "sys.path.append(_snlp_book_dir)\n",
    "# docker image contains tensorflow 0.10.0rc0. We will support execution of only that version!\n",
    "import statnlpbook.nn as nn\n",
    "\n",
    "import tensorflow as tf\n",
    "import numpy as np\n",
    "import tensorflow.contrib as keras\n"
   ]
  },
  {
   "cell_type": "markdown",
   "metadata": {},
   "source": [
    "## <font color='green'>Setup 2</font>: Load Training Data\n",
    "\n",
    "This cell loads the training data. **Do not edit the next cell, nor copy/duplicate it**. Instead refer to the variables in your own code, and slice and dice them as you see fit (but do not change their values). \n",
    "For example, no one stops you from introducing, in the corresponding task section, `my_train` and `my_dev` variables that split the data into different folds.   "
   ]
  },
  {
   "cell_type": "code",
   "execution_count": 2,
   "metadata": {
    "ExecuteTime": {
     "end_time": "2016-12-20T12:04:57.110195",
     "start_time": "2016-12-20T12:04:56.251082"
    },
    "collapsed": true,
    "run_control": {
     "frozen": false,
     "read_only": false
    }
   },
   "outputs": [],
   "source": [
    "#! SETUP 2 - DO NOT CHANGE, MOVE NOR COPY\n",
    "data_path = _snlp_book_dir + \"data/nn/\"\n",
    "data_train = nn.load_corpus(data_path + \"train.tsv\")\n",
    "data_dev = nn.load_corpus(data_path + \"dev.tsv\")\n",
    "assert(len(data_train) == 45502)"
   ]
  },
  {
   "cell_type": "markdown",
   "metadata": {},
   "source": [
    "### Data Structures\n",
    "\n",
    "Notice that the data is loaded from tab-separated files. The files are easy to read, and we provide the loading functions that load it into a simple data structure. Feel free to check details of the loading.\n",
    "\n",
    "The data structure at hand is an array of dictionaries, each containing a `story` and the `order` entry. `story` is a list of strings, and `order` is a list of integer indices:"
   ]
  },
  {
   "cell_type": "code",
   "execution_count": 3,
   "metadata": {
    "ExecuteTime": {
     "end_time": "2016-12-20T12:04:57.134033",
     "start_time": "2016-12-20T12:04:57.115270"
    },
    "run_control": {
     "frozen": false,
     "read_only": false
    }
   },
   "outputs": [
    {
     "data": {
      "text/plain": [
       "{'order': [1, 0, 3, 4, 2],\n",
       " 'story': [\"She didn't have a bike of her own.\",\n",
       "  'Carrie had just learned how to ride a bike.',\n",
       "  'She got nervous on a hill and crashed into a wall.',\n",
       "  'The bike frame bent and Carrie got a deep gash on her leg.',\n",
       "  \"Carrie would sneak rides on her sister's bike.\"]}"
      ]
     },
     "execution_count": 3,
     "metadata": {},
     "output_type": "execute_result"
    }
   ],
   "source": [
    "data_train[1]"
   ]
  },
  {
   "cell_type": "markdown",
   "metadata": {},
   "source": [
    "## <font color='blue'>Task 1</font>: Model implementation\n",
    "\n",
    "Your primary task in this assignment is to implement a model that produces the right order of the sentences in the dataset.\n",
    "\n",
    "### Preprocessing pipeline\n",
    "\n",
    "First, we construct a preprocessing pipeline, in our case `pipeline` function which takes care of:\n",
    "- out-of-vocabulary words\n",
    "- building a vocabulary (on the train set), and applying the same unaltered vocabulary on other sets (dev and test)\n",
    "- making sure that the length of input is the same for the train and dev/test sets (for fixed-sized models)\n",
    "\n",
    "You are free (and encouraged!) to do your own input processing function. Should you experiment with recurrent neural networks, you will find that you will need to do so."
   ]
  },
  {
   "cell_type": "code",
   "execution_count": 4,
   "metadata": {
    "collapsed": true
   },
   "outputs": [],
   "source": [
    "def loadWord2Vec(filename):\n",
    "    vocab = {}\n",
    "    embd = []\n",
    "    file = open(filename,'r')\n",
    "    for line in file.readlines():\n",
    "        row = line.strip().split(' ')\n",
    "        for i,token in enumerate(row):\n",
    "            if i == 0:\n",
    "                vocab[row[i]] = len(vocab)\n",
    "            else:\n",
    "                embd.append(float(row[i]))\n",
    "    print('Successfully load.')\n",
    "    file.close()    \n",
    "    return vocab,embd"
   ]
  },
  {
   "cell_type": "code",
   "execution_count": 5,
   "metadata": {
    "collapsed": true
   },
   "outputs": [],
   "source": [
    "import re\n",
    "def tokenize(input):\n",
    "    token = re.compile(\"[\\w]+(?=n't)|n't|'s|\\'m|\\'ll|[\\w]+|[.?!;,:]\")\n",
    "    tokens = token.findall(input)\n",
    "    return tokens"
   ]
  },
  {
   "cell_type": "code",
   "execution_count": 6,
   "metadata": {
    "collapsed": true
   },
   "outputs": [],
   "source": [
    "def pipeline2(data,vocab=None,embd=None,max_sent_len_=None):\n",
    "    is_ext_vocab = True\n",
    "    if vocab is None and embd is None: \n",
    "        is_ext_vocab = False\n",
    "        #load word2vect\n",
    "        filename = 'word2vec.txt'\n",
    "        vocab, vec = loadWord2Vec(filename)\n",
    "        embd = np.array(vec,dtype=np.float32)\n",
    "        embd = np.reshape(embd,(len(vocab),50))\n",
    "    \n",
    "    max_sent_len = -1\n",
    "    data_sentences = []\n",
    "    data_orders = []\n",
    "    full_length = []\n",
    "    for instance in data:\n",
    "        sents = []\n",
    "        story_length = []\n",
    "        for sentence in instance['story']:\n",
    "            sent = []\n",
    "            tokenized = tokenize(sentence)\n",
    "            temp_length = np.shape(tokenized)[0]\n",
    "            for token in tokenized:\n",
    "                token = token.lower()\n",
    "                if not is_ext_vocab: #trainning set\n",
    "                    token_id = vocab[token]\n",
    "                elif token not in vocab:\n",
    "                    token_id = vocab['<OOV>']\n",
    "                else:\n",
    "                    token_id = vocab[token]                 \n",
    "                sent.append(token_id)\n",
    "            if len(sent) > max_sent_len:\n",
    "                max_sent_len = len(sent)\n",
    "            sents.append(sent)\n",
    "            story_length.append(temp_length)\n",
    "        data_sentences.append(sents)\n",
    "        data_orders.append(instance['order'])\n",
    "        full_length.append(story_length)\n",
    "\n",
    "    if max_sent_len_ is not None:\n",
    "        max_sent_len = max_sent_len_\n",
    "    out_sentences = np.full([len(data_sentences), 5, max_sent_len], vocab['<PAD>'], dtype=np.int32)\n",
    "\n",
    "    for i, elem in enumerate(data_sentences):\n",
    "        for j, sent in enumerate(elem):\n",
    "            out_sentences[i, j, 0:len(sent)] = sent\n",
    "\n",
    "    out_orders = np.array(data_orders, dtype=np.int32)\n",
    "    #full_length = np.reshape(full_length,[-1])\n",
    "    full_length = np.asmatrix(full_length)\n",
    "    return out_sentences, out_orders, vocab, embd, full_length"
   ]
  },
  {
   "cell_type": "code",
   "execution_count": 7,
   "metadata": {},
   "outputs": [
    {
     "name": "stdout",
     "output_type": "stream",
     "text": [
      "Successfully load.\n"
     ]
    }
   ],
   "source": [
    "train_stories, train_orders, vocab, embd, train_length= pipeline2(data_train)"
   ]
  },
  {
   "cell_type": "markdown",
   "metadata": {},
   "source": [
    "You need to make sure that the `pipeline` function returns the necessary data for your computational graph feed - the required inputs in this case, as we will call this function to process your dev and test data. If you do not make sure that the same pipeline applied to the train set is applied to other datasets, your model may not work with that data!"
   ]
  },
  {
   "cell_type": "code",
   "execution_count": 8,
   "metadata": {
    "collapsed": true
   },
   "outputs": [],
   "source": [
    "#Word Embedding\n",
    "max_sent_len = train_stories.shape[2]\n",
    "dev_stories, dev_orders, _, _ ,dev_length= pipeline2(data_dev, vocab=vocab, max_sent_len_=max_sent_len)"
   ]
  },
  {
   "cell_type": "markdown",
   "metadata": {},
   "source": [
    "You can take a look at the result of the `pipeline` with the `show_data_instance` function to make sure that your data loaded correctly:"
   ]
  },
  {
   "cell_type": "code",
   "execution_count": 9,
   "metadata": {
    "ExecuteTime": {
     "end_time": "2016-12-20T12:04:59.954655",
     "start_time": "2016-12-20T12:04:59.926701"
    },
    "run_control": {
     "frozen": false,
     "read_only": false
    }
   },
   "outputs": [
    {
     "name": "stdout",
     "output_type": "stream",
     "text": [
      "Input:\n",
      " Story:\n",
      "  the manager decided to offer john the job .\n",
      "  during the interview he was very talkative and <OOV> .\n",
      "  he went to the interview very prepared and nicely dressed .\n",
      "  john was excited to have a job interview .\n",
      "  the manager of the company was really impressed by john 's comments .\n",
      " Order:\n",
      "  [4 2 1 0 3]\n",
      "\n",
      "Desired story:\n",
      "  john was excited to have a job interview .\n",
      "  he went to the interview very prepared and nicely dressed .\n",
      "  during the interview he was very talkative and <OOV> .\n",
      "  the manager of the company was really impressed by john 's comments .\n",
      "  the manager decided to offer john the job .\n"
     ]
    }
   ],
   "source": [
    "nn.show_data_instance(dev_stories, dev_orders, vocab, 155)"
   ]
  },
  {
   "cell_type": "markdown",
   "metadata": {},
   "source": [
    "### Model\n",
    "\n",
    "The model we provide is a rudimentary, non-optimised model that essentially represents every word in a sentence with a fixed vector, sums these vectors up (per sentence) and puts a softmax at the end which aims to guess the order of sentences independently.\n",
    "\n",
    "First we define the model parameters:"
   ]
  },
  {
   "cell_type": "code",
   "execution_count": 10,
   "metadata": {
    "collapsed": true
   },
   "outputs": [],
   "source": [
    "#def generate_hyperparameters():\n",
    "#    # Randomly choose values for the hyperparameters.\n",
    "#    return {\"learning_rate\": 10 ** np.random.uniform(-5, 0),\n",
    "#            \"batch_size_rand\": np.random.randint(1, 100),\n",
    "#            \"dropout\": np.random.uniform(0, 1),\n",
    "#            \"hidden_unit_1\": np.random.randint(1, 100),\n",
    "#            \"hidden_unit_2\": np.random.randint(1, 100)}"
   ]
  },
  {
   "cell_type": "code",
   "execution_count": 11,
   "metadata": {
    "ExecuteTime": {
     "end_time": "2016-12-20T12:04:59.966529",
     "start_time": "2016-12-20T12:04:59.956638"
    },
    "collapsed": true,
    "run_control": {
     "frozen": false,
     "read_only": false
    }
   },
   "outputs": [],
   "source": [
    "#training parameter\n",
    "#num_hidden = 128\n",
    "target_size = 5\n",
    "vocab_size = len(vocab)\n",
    "input_size = 50\n",
    "#timesteps = 5\n",
    "#num_layers = 2"
   ]
  },
  {
   "cell_type": "markdown",
   "metadata": {},
   "source": [
    "and then we define the model"
   ]
  },
  {
   "cell_type": "code",
   "execution_count": 12,
   "metadata": {
    "collapsed": true
   },
   "outputs": [],
   "source": [
    "#param = generate_hyperparameters()\n",
    "\n",
    "#Best Parameters\n",
    "learning_rate = 0.0015\n",
    "batch_size_rand = 17\n",
    "dropout = 0.03020300392066011\n",
    "hidden_unit_1 = 68\n",
    "hidden_unit_2 = 30"
   ]
  },
  {
   "cell_type": "code",
   "execution_count": 13,
   "metadata": {
    "collapsed": true
   },
   "outputs": [],
   "source": [
    "tf.reset_default_graph()\n",
    "#creat tensor holder\n",
    "story = tf.placeholder(tf.int32, [None,None,None],\"story\")\n",
    "order = tf.placeholder(tf.int32, [None,None],\"order\")\n",
    "length = tf.placeholder(tf.int64, [None, None], \"sentence_length\") #[batch_size x 5]\n",
    "\n",
    "#weights = {\n",
    "#    'out': tf.Variable(tf.random_normal([num_hidden, target_size]),dtype=tf.float32)\n",
    "#}\n",
    "#biases = {\n",
    "#    'out': tf.Variable(tf.random_normal([target_size]),dtype=tf.float32)\n",
    "#}\n",
    "\n",
    "batch_size = tf.shape(story)[0]\n",
    "sentences = [tf.reshape(x, [batch_size, -1]) for x in tf.split(axis=1, num_or_size_splits=5, value=story)]\n",
    "#initializer = tf.random_uniform_initializer(-0.1, 0.1)\n",
    "#embeddings = tf.get_variable(\"W\", [vocab_size, input_size], initializer=initializer)\n",
    "\n",
    "embeddings = tf.constant(embd)\n",
    "sentences_embedded = [tf.nn.embedding_lookup(embeddings, sentence)    # 5 x batch_size x max_length x input_size\n",
    "                    for sentence in sentences]\n",
    "# hs = [tf.reduce_sum(sentence, 1) for sentence in sentences_embedded]\n",
    "hs = []\n",
    "#cell = tf.contrib.rnn.BasicLSTMCell(num_hidden, forget_bias=1.0,state_is_tuple=True)\n",
    "hidden_units = [hidden_unit_1,hidden_unit_2]\n",
    "rnn_layers = [tf.contrib.rnn.LSTMCell(size, activation= tf.nn.tanh) for size in hidden_units]\n",
    "cell = tf.contrib.rnn.MultiRNNCell(rnn_layers, state_is_tuple=True)\n",
    "cell = tf.contrib.rnn.DropoutWrapper(\n",
    "      cell, output_keep_prob=dropout)\n",
    "\n",
    "\n",
    "i = 0\n",
    "for batch in sentences_embedded:\n",
    "    output,final_state = tf.nn.dynamic_rnn(cell,batch,sequence_length = length[:,i],dtype=tf.float32)\n",
    "    #output, _ = tf.nn.bidirectional_dynamic_rnn(cell_fw=cell,cell_bw=cell,inputs = batch, \n",
    "    #                                                      sequence_length= length[:,1], dtype = tf.float32)\n",
    "\n",
    "    hs.append(final_state[-1].h)\n",
    "    #hs.append(tf.matmul(final_state.h, weights['out']) + biases['out'])\n",
    "    i+=1\n",
    "# the size of hs [5,batch_size,5]\n",
    "\n",
    "h = tf.concat(axis=1, values=hs)    # [batch_size x 5*input_size]\n",
    "h = tf.reshape(h, [batch_size, 5*hidden_units[-1]])\n",
    "logits_flat = tf.contrib.layers.linear(h, 5 * target_size)    # [batch_size x 5*target_size]\n",
    "logits = tf.reshape(logits_flat, [-1, 5, target_size])        # [batch_size x 5 x target_size]\n",
    "#logits = tf.transpose(hs,perm=[1,0,2])\n",
    "# # # loss \n",
    "loss = tf.reduce_sum(tf.nn.sparse_softmax_cross_entropy_with_logits(logits=logits, labels=order))\n",
    "\n",
    "#beta = 0.1\n",
    "#regularizers = tf.nn.l2_loss(weights['out'])\n",
    "\n",
    "#loss = tf.reduce_mean(tf.nn.softmax_cross_entropy_with_logits(\n",
    "#    logits=logits, labels=order))\n",
    "\n",
    "#loss = loss + beta * regularizers\n",
    "\n",
    "\n",
    "# prediction function\n",
    "unpacked_logits = [tensor for tensor in tf.unstack(logits, axis=1)]\n",
    "softmaxes = [tf.nn.softmax(tensor) for tensor in unpacked_logits]\n",
    "softmaxed_logits = tf.stack(softmaxes, axis=1)\n",
    "predict = tf.arg_max(softmaxed_logits, 2)\n",
    "#opt_op = tf.train.AdamOptimizer(0.1).minimize(loss)\n",
    "\n",
    "max_gradient_norm = 1\n",
    "\n",
    "# Calculate and clip gradients\n",
    "params = tf.trainable_variables()\n",
    "gradients = tf.gradients(loss, params)\n",
    "clipped_gradients, _ = tf.clip_by_global_norm(\n",
    "gradients, max_gradient_norm)\n",
    "\n",
    "# Optimization\n",
    "#optimizer = tf.train.AdamOptimizer(0.0015)\n",
    "optimizer = tf.train.RMSPropOptimizer(0.0015)\n",
    "update_step = optimizer.apply_gradients(\n",
    "    zip(clipped_gradients, params))\n",
    "opt_op = optimizer.minimize(loss)"
   ]
  },
  {
   "cell_type": "code",
   "execution_count": 14,
   "metadata": {},
   "outputs": [
    {
     "data": {
      "text/plain": [
       "\"\\nBATCH_SIZE = batch_size_rand\\nindicator = 0\\nprint(param)\\nwith tf.Session() as sess:\\n    sess.run(tf.initialize_all_variables())\\n    n = train_stories.shape[0]\\n\\n    for epoch in range(100):\\n        #BATCH_SIZE = \\n        print('----- Epoch', epoch, '-----')\\n        total_loss = 0\\n        idx = np.random.permutation(train_stories.shape[0])\\n        for i in range(n // BATCH_SIZE):\\n            inst_story = train_stories[idx[i * BATCH_SIZE: (i + 1) * BATCH_SIZE]]\\n            inst_order = train_orders[idx[i * BATCH_SIZE: (i + 1) * BATCH_SIZE]]\\n            inst_length = train_length[idx[i * BATCH_SIZE: (i + 1) * BATCH_SIZE]]\\n            feed_dict = {story: inst_story, order: inst_order, length: inst_length}\\n            _, current_loss = sess.run([opt_op, loss], feed_dict=feed_dict)\\n            total_loss += current_loss\\n\\n        print(' Train loss:', total_loss / n)\\n\\n        train_feed_dict = {story: train_stories, order: train_orders, length: train_length}\\n        train_predicted = sess.run(predict, feed_dict=train_feed_dict)\\n        train_accuracy = nn.calculate_accuracy(train_orders, train_predicted)\\n        print(' Train accuracy:', train_accuracy)\\n\\n        dev_feed_dict = {story: dev_stories, order: dev_orders,length:dev_length}\\n        dev_predicted = sess.run(predict, feed_dict=dev_feed_dict)\\n        dev_accuracy = nn.calculate_accuracy(dev_orders, dev_predicted)\\n        print(' Dev accuracy:', dev_accuracy)\\n\\n        if dev_accuracy > indicator:\\n            loc1_save_model(sess)\\n            indicator = dev_accuracy\\n\\n    #nn.save_model(sess)\\n\""
      ]
     },
     "execution_count": 14,
     "metadata": {},
     "output_type": "execute_result"
    }
   ],
   "source": [
    "\"\"\"\n",
    "BATCH_SIZE = batch_size_rand\n",
    "indicator = 0\n",
    "print(param)\n",
    "with tf.Session() as sess:\n",
    "    sess.run(tf.initialize_all_variables())\n",
    "    n = train_stories.shape[0]\n",
    "\n",
    "    for epoch in range(100):\n",
    "        #BATCH_SIZE = \n",
    "        print('----- Epoch', epoch, '-----')\n",
    "        total_loss = 0\n",
    "        idx = np.random.permutation(train_stories.shape[0])\n",
    "        for i in range(n // BATCH_SIZE):\n",
    "            inst_story = train_stories[idx[i * BATCH_SIZE: (i + 1) * BATCH_SIZE]]\n",
    "            inst_order = train_orders[idx[i * BATCH_SIZE: (i + 1) * BATCH_SIZE]]\n",
    "            inst_length = train_length[idx[i * BATCH_SIZE: (i + 1) * BATCH_SIZE]]\n",
    "            feed_dict = {story: inst_story, order: inst_order, length: inst_length}\n",
    "            _, current_loss = sess.run([opt_op, loss], feed_dict=feed_dict)\n",
    "            total_loss += current_loss\n",
    "\n",
    "        print(' Train loss:', total_loss / n)\n",
    "\n",
    "        train_feed_dict = {story: train_stories, order: train_orders, length: train_length}\n",
    "        train_predicted = sess.run(predict, feed_dict=train_feed_dict)\n",
    "        train_accuracy = nn.calculate_accuracy(train_orders, train_predicted)\n",
    "        print(' Train accuracy:', train_accuracy)\n",
    "\n",
    "        dev_feed_dict = {story: dev_stories, order: dev_orders,length:dev_length}\n",
    "        dev_predicted = sess.run(predict, feed_dict=dev_feed_dict)\n",
    "        dev_accuracy = nn.calculate_accuracy(dev_orders, dev_predicted)\n",
    "        print(' Dev accuracy:', dev_accuracy)\n",
    "\n",
    "        if dev_accuracy > indicator:\n",
    "            loc1_save_model(sess)\n",
    "            indicator = dev_accuracy\n",
    "\n",
    "    #nn.save_model(sess)\n",
    "\"\"\""
   ]
  },
  {
   "cell_type": "markdown",
   "metadata": {},
   "source": [
    "We built our model, together with the loss and the prediction function, all we are left with now is to build an optimiser on the loss:"
   ]
  },
  {
   "cell_type": "markdown",
   "metadata": {},
   "source": [
    "### Model training \n",
    "\n",
    "We defined the preprocessing pipeline, set the model up, so we can finally train the model"
   ]
  },
  {
   "cell_type": "markdown",
   "metadata": {
    "collapsed": true
   },
   "source": [
    "Change the following lines so that they construct the test set in the same way you constructed the dev set in the code above. We will insert the test set instead of the dev set here. **`test_feed_dict` variable must stay named the same**."
   ]
  },
  {
   "cell_type": "code",
   "execution_count": 15,
   "metadata": {
    "ExecuteTime": {
     "end_time": "2016-12-20T12:05:54.755730",
     "start_time": "2016-12-20T12:05:54.617471"
    },
    "collapsed": true,
    "run_control": {
     "frozen": false,
     "read_only": false
    }
   },
   "outputs": [],
   "source": [
    "# LOAD THE DATA\n",
    "data_test = nn.load_corpus(data_path + \"test.tsv\")\n",
    "# make sure you process this with the same pipeline as you processed your dev set\n",
    "test_stories, test_orders, _, _, test_length = pipeline2(data_test, vocab=vocab, max_sent_len_=max_sent_len)\n",
    "\n",
    "# THIS VARIABLE MUST BE NAMED `test_feed_dict`\n",
    "test_feed_dict = {story: test_stories, order: test_orders, length: test_length}"
   ]
  },
  {
   "cell_type": "markdown",
   "metadata": {},
   "source": [
    "The following code loads your model, computes accuracy, and exports the result. **DO NOT** change this code."
   ]
  },
  {
   "cell_type": "code",
   "execution_count": 19,
   "metadata": {
    "ExecuteTime": {
     "end_time": "2016-12-20T12:05:55.116609",
     "start_time": "2016-12-20T12:05:54.758571"
    },
    "run_control": {
     "frozen": false,
     "read_only": false
    }
   },
   "outputs": [
    {
     "data": {
      "text/plain": [
       "0.53661143773383213"
      ]
     },
     "execution_count": 19,
     "metadata": {},
     "output_type": "execute_result"
    }
   ],
   "source": [
    "#! ASSESSMENT 1 - DO NOT CHANGE, MOVE NOR COPY\n",
    "with tf.Session() as sess:\n",
    "    # LOAD THE MODEL\n",
    "    saver = tf.train.Saver()\n",
    "    saver.restore(sess, './model/model.checkpoint')\n",
    "    \n",
    "    # RUN TEST SET EVALUATION\n",
    "    dev_predicted = sess.run(predict, feed_dict=test_feed_dict)\n",
    "    dev_accuracy = nn.calculate_accuracy(test_orders, dev_predicted)\n",
    "\n",
    "dev_accuracy"
   ]
  },
  {
   "cell_type": "code",
   "execution_count": 17,
   "metadata": {},
   "outputs": [
    {
     "name": "stdout",
     "output_type": "stream",
     "text": [
      "[0.20737573490112238, 0.19134152859433456, 0.19134152859433456, 0.19454836985569213, 0.19935863174772847] [(0.20664763157429164, 0.2073757349011224, 0.20640547155124295, None), (0.19274148427508647, 0.19134152859433459, 0.19141487921718556, None), (0.19153040267549501, 0.19134152859433459, 0.19103500591267869, None), (0.19897353765916276, 0.19454836985569215, 0.19470491003385346, None), (0.19977296087565566, 0.1993586317477285, 0.19909376772248366, None)]\n"
     ]
    }
   ],
   "source": [
    "from sklearn.metrics import precision_recall_fscore_support\n",
    "sentence_pre = []\n",
    "sentence_act = []\n",
    "acc = []\n",
    "temp = []\n",
    "for i in range(5):\n",
    "    sentence_pre.append(dev_predicted[:,i])\n",
    "    sentence_act.append(dev_orders[:,i])\n",
    "    acc.append(nn.calculate_accuracy(sentence_act[i], sentence_pre[i])*5)\n",
    "    temp.append(precision_recall_fscore_support(dev_orders[:,i],dev_predicted[:,i],average='weighted'))\n",
    "    \n",
    "print (acc,temp)"
   ]
  },
  {
   "cell_type": "code",
   "execution_count": 18,
   "metadata": {},
   "outputs": [
    {
     "name": "stdout",
     "output_type": "stream",
     "text": [
      "Confusion matrix, without normalization\n",
      "[[380 375 306 367 443]\n",
      " [415 375 331 363 387]\n",
      " [381 420 332 351 387]\n",
      " [417 397 284 378 395]\n",
      " [386 431 353 325 376]]\n"
     ]
    },
    {
     "data": {
      "image/png": "[encoded data removed]",
      "text/plain": [
       "<matplotlib.figure.Figure at 0x7ff13e346f98>"
      ]
     },
     "metadata": {},
     "output_type": "display_data"
    }
   ],
   "source": [
    "import matplotlib.pyplot as plt\n",
    "from sklearn.metrics import confusion_matrix\n",
    "\n",
    "target_names = ['sentence1','sentence2','sentence3','sentence4','sentence5']\n",
    "def plot_confusion_matrix(cm, title='Confusion matrix', cmap=plt.cm.Blues):\n",
    "    plt.imshow(cm, interpolation='nearest', cmap=cmap)\n",
    "    plt.title(title)\n",
    "    plt.colorbar()\n",
    "    tick_marks = np.arange(len(target_names))\n",
    "    plt.xticks(tick_marks, target_names, rotation=45)\n",
    "    plt.yticks(tick_marks, target_names)\n",
    "    plt.tight_layout()\n",
    "    plt.ylabel('True label')\n",
    "    plt.xlabel('Predicted label')\n",
    "    \n",
    "y_true = np.reshape(dev_orders,1871*5) \n",
    "y_pred = np.reshape(dev_predicted,1871*5)\n",
    "cm = confusion_matrix(y_true, y_pred)\n",
    "np.set_printoptions(precision=2)\n",
    "print('Confusion matrix, without normalization')\n",
    "print(cm)\n",
    "plt.figure()\n",
    "plot_confusion_matrix(cm)"
   ]
  },
  {
   "cell_type": "markdown",
   "metadata": {},
   "source": [
    "# Description"
   ]
  },
  {
   "cell_type": "markdown",
   "metadata": {},
   "source": [
    "The process of the assignment is consist of four parts. The first part is to pre-process our input data. The second part is to select and build a good model to predict the sequence of sentences. The third part is to tune the parameter and use some techniques to improve the performance of the model.The last part is to make comparison with the original model and do error analysis.\n",
    "\n",
    "# Pre-process the data:\n",
    "\n",
    "**1.tokenization**:\n",
    "We implement a different tokenization instead of just split the word by a space such as \"n't\", \"'s\" and full stop(\".\").\n",
    "\n",
    "**2.apply pre-train word2vec word embedding**:\n",
    "In order the vectorize sentences so that they can be inputs of the model. Firstly, we vectorize the word. In the assignment, we use the pre-trained word representation of Glove. Only words appeared in the training set are included in the model.\n",
    "\n",
    "**3.modify pipeline function**:\n",
    "When reconstructing the pipeline function, we had tried some methods. First we tried to use a vector to represent a sentence. In that case each training sample will be one vector instead of a sequence of data. In our assignment, this is done by summing up all the words in a sentence and then use the average value as the input vector. But later, we found some critical disadvantage of this method: the model cannot learn the order information of the data, which means that the model will also fails to learn the semantic features of data set because different order of words have different meaning.\n",
    "Therefore, we tried another way to reconstruct the pipeline function which is very similar to the original one. The difference is that we generate new vocab, embeddings and also the actual length of sentences.\n",
    "\n",
    "# Model building:\n",
    "\n",
    "Firstly, we did some change to the input data. We add pre-train embedding instead of initializing them without meaningful and trained them. Besides that , we included the actual length of each sentence (this can be used in dynamic rnn training ). \n",
    "Then, we made some change to the form of input data. The original form of input data of  teacher’s model is an array with three dimentions (5xbatch_sizexinput_size) which the sentence representation is a vector of the average value of all words in the sentence. Because we use dynamic rnn which requires the range of the data so we add other input whihc is a length of each sentence. The second step is to construct the lstm model. We built  two lstm cell and stack them using a multirnn cell. In case of overfitting , we use dropwrapper and set the passing probability to 0.0302 (from random search). And then we put the multirnn cell into the dynamic rnn running algorithm and fed the 5 sentences step by step which means that the size of input of each time is [batch_size, max_length,input_size]. And we only take the last state of the output which means that we only need the output of the last word of each sentence. And then we put them into a fully-connected output layer with activation function of sigmoid. Next, we use the same loss and prediction function as teacher did. And then, after experiencing different optimizer, we chose to use RMSPropOptimizer and set the leaning rate to 0.0015. \n",
    "\n",
    "\n",
    "**Other models we tried**:\n",
    "Initially, we tried to use only one lstmcell to build the model and put all 5 sentences's representation of all batch_size data toin to model one time, only use outweight and outbias to get the output from each nodes in the cell. This model can get a accuracy of about 52~53.Besites that we tried to use bi-directional deep neural network that maintains two hidden layers of GRU cell or LSTM cell, one for the left-to-right propagation and another for the right-to-left propagation. In this way, we can not only make prediction based on previous words, but also based on future words. However, maintaining two hidden layers at any time, this network consumes twice as much memory space for its weight and bias parameters while its accuracy is lesser than that by using MultiRNNCell. The last model we tried was seq2seq, we implemented it by using the package of keras as there was little time left so we only build a basic seq2seq model which can get us a dev accuracy of about 53~54.\n",
    "\n",
    "**Better trainning procedure and tuning of hyparameters**:\n",
    "By using dropwrapper on the MultiRnncell and gradient cilpping on the different optimiser, we found they can help to increase the accuracy a little bit. Beside this, it is also important to tune a good combination of hyparameters. We thought about to use grid search but it is quite expensive so we finally decided to random search. We defined a random search function of output of batch_size, learning rate , dropout probability and the hidden units of two lstm cell.This helped us a lot to find a good combination of hyparameters. Once we got about 55.2 of dev accuracy in the third epoch. We also use early stopping to get the better model.\n",
    "\n",
    "\n",
    "## Comparison:\n",
    "As we have mentioned detailedly above, let's make summary of the differences between our model and teacher's model.\n",
    "\n",
    "**1.the input to the model**:\n",
    "The input to the model of the orginal model is all 5 sentences representation of words of batch_size while our input to the model is word vector of each word in every sentence.As sentence representation will decrease information of words in a certain extent so the new input keeps every word's information and this can help improve accuracy.\n",
    "\n",
    "**2.model change**:\n",
    "The original model is too simple an we change it to MultiRnn which can keep the memory of former words. \n",
    "\n",
    "**3.model running algorithm**:\n",
    "The orginal model running algorithm is static. Our model took the true length of each sentence and applied it to dynamic running algoritm. This help a lot to improve the accuracy.\n",
    "\n",
    "**4.tranning algorithm**:\n",
    "We have tried a lot of things which didn't provided in original model like l2 regularization (though we didn't use it eventually), gradient clipping, early stopping , choose random sample from the data, random search, dropout and so on.\n",
    "\n",
    "## Error Analysis:\n",
    "| Type | 1st sentence  | 2nd sentence | 3rd sentence  |4th sentence  |5th sentence  | total\n",
    "|------|---|--|--|--|\n",
    "| **Dev Accuracy** | 0.55478353821485837 |0.55585248530197762 |0.56814537680384825  |0.51950828433992524  |0.56173169428113312  |0.5520042757883485\n",
    "\n",
    "| Type | 1st sentence  | 2nd sentence | 3rd sentence  |4th sentence  |5th sentence  | total\n",
    "|------|---|--|--|--|\n",
    "| **recall** | 0.55478353821485837 |0.55585248530197751 |0.56814537680384825  |0.51950828433992513  |0.56173169428113312 |0.5520042757883485\n",
    "| **precision** | 0.55170147928577773 |0.54745604991651109 |0.55573558119283739  |0.51385747018039296  |0.55379027428018601  |0.544508170971141\n",
    "| **f1 score** | 0.55286387421540029 |0.550304286941540 |0.56062259886380594  |0.5142538735085706  |0.55697811783787443 |0.5470045502734383\n",
    "\n"
   ]
  },
  {
   "attachments": {
    "error.png": {
     "image/png": "[encoded data removed]"
    }
   },
   "cell_type": "markdown",
   "metadata": {},
   "source": [
    "![error.png](attachment:error.png)"
   ]
  },
  {
   "cell_type": "markdown",
   "metadata": {},
   "source": [
    "1. Precision\n",
    "Sentence4 has the lowest precision: there are only about 51.4% of sentence4’s prediction are correct, while there are around 55% of other orders’ prediction are correct.\n",
    "2.Recall\n",
    "Among the 1871 sentences that actually ordered 4, we only successfully find 51.9% of them, while we can find 55% of the rest sentences that have other order.\n",
    "3. F1 score\n",
    "Combine this two indicators, the f1 score of 4th sentence is the worst among all orders, only about 0.51, while the rest are around 0.55.\n",
    "\n",
    "The reason for low score of sentence4 and high score of sentence1 may be that there are some similar words within the story while there are specified indicator of the beginning of story.\n",
    "\n",
    "From examining confusion matrix, we found some error that our model may make.\n",
    "1.Our model tend to mislabel sentences3 and sentence4 to their neighbor order with nearly equal probability.There are about 900 sentences3 are predicted to be sentence2 and sentence4 with nearly equal number (450 each) and sentence4 have similar case, mislabelled 405 sentences4 to be sentence3 and 454 to sentence5. The reason may be that they have strong relationship between the nearby sentences so it is hard to detect the real order of them.\n",
    "2.Our model seldom predicted sentences to be sentence3 (there are total 1588 prediction of sentence3 while there are almost 1950 predictions of other sentences). The reason may be that it is in the middle of story and it may contain some information about the future and the bi-direction may perform better at this case."
   ]
  },
  {
   "cell_type": "markdown",
   "metadata": {},
   "source": [
    "# Reference:\n",
    "1.http://www.deeplearningbook.org/contents/mlp.html, Deep Feedforward Networks\n",
    "\n",
    "2.Dzmitry Bahdanau, KyungHyun Cho Yoshua Bengio(2015).NEURAL MACHINE TRANSLATION BY JOINTLY LEARNING TO ALIGN AND TRANSLATE\n",
    "\n",
    "3.Tom Hope, Yehezkel S. Resheff, Itay Lieder.Learning TensorFlow: A Guide to Building Deep Learning Systems"
   ]
  },
  {
   "cell_type": "markdown",
   "metadata": {},
   "source": [
    "...WRITE YOUR DESCRIPTION HERE..."
   ]
  },
  {
   "cell_type": "code",
   "execution_count": null,
   "metadata": {
    "collapsed": true
   },
   "outputs": [],
   "source": []
  }
 ],
 "metadata": {
  "hide_input": false,
  "kernelspec": {
   "display_name": "Python 3",
   "language": "python",
   "name": "python3"
  },
  "language_info": {
   "codemirror_mode": {
    "name": "ipython",
    "version": 3
   },
   "file_extension": ".py",
   "mimetype": "text/x-python",
   "name": "python",
   "nbconvert_exporter": "python",
   "pygments_lexer": "ipython3",
   "version": "3.6.3"
  }
 },
 "nbformat": 4,
 "nbformat_minor": 1
}
